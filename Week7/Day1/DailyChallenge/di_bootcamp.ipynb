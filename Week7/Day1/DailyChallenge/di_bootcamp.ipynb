{
 "cells": [
  {
   "cell_type": "code",
   "execution_count": 1,
   "id": "d2324893",
   "metadata": {},
   "outputs": [],
   "source": [
    "import numpy as np"
   ]
  },
  {
   "cell_type": "markdown",
   "id": "954091c6",
   "metadata": {},
   "source": [
    "Create a table (i.e. a 2d array) of size M x N filled with random integers between 1 and 100,\n",
    "where 1 < N < 40 and 1 < M < 50."
   ]
  },
  {
   "cell_type": "code",
   "execution_count": 22,
   "id": "ff29cf0a",
   "metadata": {},
   "outputs": [
    {
     "data": {
      "text/plain": [
       "array([[79, 18, 46, ..., 24, 98, 83],\n",
       "       [35, 86, 36, ..., 62, 13, 82],\n",
       "       [58, 42, 14, ..., 54, 35, 60],\n",
       "       ...,\n",
       "       [46, 71, 33, ..., 22, 80, 45],\n",
       "       [73, 67, 63, ..., 62, 10, 18],\n",
       "       [28, 22, 31, ..., 71,  2, 79]])"
      ]
     },
     "execution_count": 22,
     "metadata": {},
     "output_type": "execute_result"
    }
   ],
   "source": [
    "M = np.random.randint(1,50)\n",
    "N = np.random.randint(1,40)\n",
    "\n",
    "a = np.random.randint(1, 100, size=(N, M))\n",
    "a"
   ]
  },
  {
   "cell_type": "code",
   "execution_count": 23,
   "id": "58dd3f50",
   "metadata": {},
   "outputs": [
    {
     "data": {
      "text/plain": [
       "array([58, 42, 14, 40, 47, 49, 87, 65, 81, 43, 22, 53, 54, 48, 74, 83,  1,\n",
       "       49, 72, 77, 65,  5, 71, 90, 85,  7, 65, 75, 17, 99, 15, 28, 14, 86,\n",
       "       76, 31,  8, 61, 15, 84, 81, 54, 35, 60])"
      ]
     },
     "execution_count": 23,
     "metadata": {},
     "output_type": "execute_result"
    }
   ],
   "source": [
    "a[2]"
   ]
  },
  {
   "cell_type": "code",
   "execution_count": 24,
   "id": "3bea5753",
   "metadata": {},
   "outputs": [
    {
     "data": {
      "text/plain": [
       "array([46, 36, 14, 82, 42, 76, 50, 79, 62, 89, 17, 47, 99, 58, 54, 98, 65,\n",
       "       10, 84,  9, 47, 53, 33, 63, 31])"
      ]
     },
     "execution_count": 24,
     "metadata": {},
     "output_type": "execute_result"
    }
   ],
   "source": [
    "a[:,2]"
   ]
  },
  {
   "cell_type": "code",
   "execution_count": 30,
   "id": "6ac7d430",
   "metadata": {},
   "outputs": [],
   "source": [
    "a[-1] = 7\n",
    "a[-1]"
   ]
  },
  {
   "cell_type": "code",
   "execution_count": 48,
   "id": "a66fc598",
   "metadata": {},
   "outputs": [
    {
     "data": {
      "text/plain": [
       "array([287898, 287898, 287898, 287898, 287898, 287898, 287898, 287898,\n",
       "       287898, 287898, 287898, 287898, 287898, 287898, 287898, 287898,\n",
       "       287898, 287898, 287898, 287898, 287898, 287898, 287898, 287898,\n",
       "       287898])"
      ]
     },
     "execution_count": 48,
     "metadata": {},
     "output_type": "execute_result"
    }
   ],
   "source": [
    "a[:,-1] == np.sum(a[0] + a[1])\n",
    "\n",
    "a[:,-1]"
   ]
  },
  {
   "cell_type": "code",
   "execution_count": null,
   "id": "efcfa9ac",
   "metadata": {},
   "outputs": [],
   "source": []
  }
 ],
 "metadata": {
  "kernelspec": {
   "display_name": "Python 3 (ipykernel)",
   "language": "python",
   "name": "python3"
  },
  "language_info": {
   "codemirror_mode": {
    "name": "ipython",
    "version": 3
   },
   "file_extension": ".py",
   "mimetype": "text/x-python",
   "name": "python",
   "nbconvert_exporter": "python",
   "pygments_lexer": "ipython3",
   "version": "3.10.5"
  }
 },
 "nbformat": 4,
 "nbformat_minor": 5
}
